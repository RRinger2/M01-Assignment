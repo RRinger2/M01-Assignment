{
 "cells": [
  {
   "cell_type": "code",
   "execution_count": 3,
   "id": "ca8aee6e",
   "metadata": {
    "scrolled": true
   },
   "outputs": [
    {
     "name": "stdout",
     "output_type": "stream",
     "text": [
      "24.0\n",
      "24\n"
     ]
    }
   ],
   "source": [
    "# There are 60 minutes in an hour. 60 seconds in a minute. 1*60*60 = 3600 seconds in an hour\n",
    "seconds_per_hour = 3600\n",
    "seconds_per_day = seconds_per_hour * 24\n",
    "divide = seconds_per_day//seconds_per_hour\n",
    "divide1 = seconds_per_day/seconds_per_hour\n",
    "print(divide1)\n",
    "print(divide)\n",
    "\n",
    "#Yes both values are the same. // returns the integer value while / returns the floating value"
   ]
  },
  {
   "cell_type": "code",
   "execution_count": null,
   "id": "323f1ad3",
   "metadata": {},
   "outputs": [],
   "source": []
  }
 ],
 "metadata": {
  "kernelspec": {
   "display_name": "Python 3 (ipykernel)",
   "language": "python",
   "name": "python3"
  },
  "language_info": {
   "codemirror_mode": {
    "name": "ipython",
    "version": 3
   },
   "file_extension": ".py",
   "mimetype": "text/x-python",
   "name": "python",
   "nbconvert_exporter": "python",
   "pygments_lexer": "ipython3",
   "version": "3.10.0"
  }
 },
 "nbformat": 4,
 "nbformat_minor": 5
}
